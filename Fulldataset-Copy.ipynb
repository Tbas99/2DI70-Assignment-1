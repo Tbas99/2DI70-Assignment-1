{
 "cells": [
  {
   "cell_type": "code",
   "execution_count": 1,
   "metadata": {},
   "outputs": [],
   "source": [
    "import pandas as pd\n",
    "import numpy as np\n",
    "import itertools\n",
    "from scipy import stats as st \n",
    "st.keepsdims = True\n",
    "#suppress depreciation warnings\n",
    "import warnings\n",
    "warnings.filterwarnings(\"ignore\")\n",
    "import matplotlib.pyplot as plt\n",
    "import multiprocessing as mp\n",
    "import pickle\n",
    "from joblib import Parallel, delayed\n",
    "import tqdm\n"
   ]
  },
  {
   "cell_type": "code",
   "execution_count": 2,
   "metadata": {},
   "outputs": [
    {
     "data": {
      "text/plain": [
       "' \\nX_train = pd.read_csv(\"MNIST_train_small.csv\", header = None)\\ny_train = X_train.iloc[:,0]\\nX_train = X_train.drop(X_train.columns[0], axis=1)\\n\\nX_test = pd.read_csv(\"MNIST_test_small.csv\", header = None)\\ny_test = X_test.iloc[:,0]\\nX_test = X_test.drop(X_test.columns[0], axis=1)\\n '"
      ]
     },
     "execution_count": 2,
     "metadata": {},
     "output_type": "execute_result"
    }
   ],
   "source": [
    "\"\"\" \n",
    "X_train = pd.read_csv(\"MNIST_train_small.csv\", header = None)\n",
    "y_train = X_train.iloc[:,0]\n",
    "X_train = X_train.drop(X_train.columns[0], axis=1)\n",
    "\n",
    "X_test = pd.read_csv(\"MNIST_test_small.csv\", header = None)\n",
    "y_test = X_test.iloc[:,0]\n",
    "X_test = X_test.drop(X_test.columns[0], axis=1)\n",
    " \"\"\""
   ]
  },
  {
   "cell_type": "code",
   "execution_count": 3,
   "metadata": {},
   "outputs": [],
   "source": [
    "X_full = pd.read_csv(\"MNIST_train.csv\", header = None)\n",
    "#convert columns to np.unit8\n",
    "X_full = X_full.astype(np.uint8)\n",
    "y_full = X_full.iloc[:,0]\n",
    "X_full = X_full.drop(X_full.columns[0], axis=1)\n",
    "#resized to 5x5\n",
    "from PIL import Image\n",
    "X_pixels = X_full.values\n",
    "X_pixels = X_pixels.reshape(-1, 28, 28)\n",
    "# Set new size\n",
    "new_size = (5, 5)\n",
    "\n",
    "# Resize training set\n",
    "X_resized = np.zeros((len(X_full),) + new_size)\n",
    "for i in range(X_pixels.shape[0]):\n",
    "    img = Image.fromarray(X_pixels[i])\n",
    "    img_resized = img.resize(new_size)\n",
    "    X_resized[i] = np.array(img_resized)\n",
    "\n",
    "\n",
    "X_resized_pixels = X_resized.reshape(-1, new_size[0]*new_size[1])\n",
    "\n",
    "# Add the label column back into the pandas dataframe\n",
    "X_resized_df = pd.DataFrame(data=X_resized_pixels, columns=['pixel'+str(i) for i in range(new_size[0]*new_size[1])])\n",
    "X_resized= X_resized_df.astype(np.uint8)\n",
    "\n",
    "\n",
    "\n"
   ]
  },
  {
   "cell_type": "code",
   "execution_count": 4,
   "metadata": {},
   "outputs": [],
   "source": [
    "#remove X_full and y_full from memory\n",
    "del X_full\n",
    "del X_pixels\n",
    "del img_resized\n",
    "del X_resized"
   ]
  },
  {
   "cell_type": "code",
   "execution_count": 27,
   "metadata": {},
   "outputs": [],
   "source": [
    "def euclidean_distance(vec1, vec2):\n",
    "    return np.sqrt(np.sum((vec1 - vec2) ** 2))\n"
   ]
  },
  {
   "cell_type": "code",
   "execution_count": 28,
   "metadata": {},
   "outputs": [],
   "source": [
    "def predict_for_multiple_k(x, dist_function, X, y, k_values, LOOCV=False):\n",
    "    dist_to_all = np.apply_along_axis(lambda row: dist_function(x, row), 1, X)\n",
    "   \n",
    "    dist_to_all = np.column_stack((dist_to_all, y))\n",
    "    \n",
    "    dist_to_all = dist_to_all[np.argsort(dist_to_all[:, 0])]\n",
    "   \n",
    "\n",
    "    predictions = []\n",
    "    for k in k_values:\n",
    "        k_original = k\n",
    "      \n",
    "        neighbor_indeces = dist_to_all[:k, -1].astype(np.uint8)\n",
    "        neighbor_classifications = y.take(neighbor_indeces)\n",
    "        closest = st.mode(neighbor_classifications)[0]\n",
    "\n",
    "        while len(closest) > 1:\n",
    "            k += 1\n",
    "            neighbor_indeces = np.append(neighbor_indeces, int(dist_to_all[k, -1]))\n",
    "            neighbor_classifications = y.take(neighbor_indeces)\n",
    "            closest = st.mode(neighbor_classifications)[0]\n",
    "\n",
    "        prediction = closest[0]\n",
    "        predictions.append((k_original, prediction))\n",
    "    return predictions\n"
   ]
  },
  {
   "cell_type": "code",
   "execution_count": 29,
   "metadata": {},
   "outputs": [],
   "source": [
    "def get_accuracies(X_test, y_test, X_train, y_train, distance_function=euclidean_distance, k=[10], updates=250):\n",
    "    X_train_num = X_train.to_numpy()\n",
    "    correct_counters = {x: {\"correct\": 0, \"false\": 0} for x in k}\n",
    "    for index, row in X_test.iterrows():\n",
    "        preds = predict_for_multiple_k(row.to_numpy(), distance_function, X_train_num, y_train, k)\n",
    "        correct = y_test.iloc[index]\n",
    "        for k_val, pred in preds:\n",
    "            if correct == pred:\n",
    "                correct_counters[k_val][\"correct\"] += 1\n",
    "            else:\n",
    "                correct_counters[k_val][\"false\"] += 1\n",
    "        if index % updates == 0:\n",
    "            print(f'iter: {index} {correct_counters}')\n",
    "    return correct_counters\n"
   ]
  },
  {
   "cell_type": "code",
   "execution_count": 30,
   "metadata": {},
   "outputs": [],
   "source": [
    "#accuracies_test = get_accuracies(X_test, y_test, X_train, y_train, euclidean_distance, list(range(1,21)), 1000)"
   ]
  },
  {
   "cell_type": "code",
   "execution_count": 31,
   "metadata": {},
   "outputs": [],
   "source": [
    "#find the key with higher accuracy\n",
    "#max_key = max(accuracies_test, key=lambda x: accuracies_test[x][\"correct\"]/(accuracies_test[x][\"correct\"]+accuracies_test[x][\"false\"]))"
   ]
  },
  {
   "cell_type": "code",
   "execution_count": 32,
   "metadata": {},
   "outputs": [],
   "source": [
    "def LOOCV(X_train, y_train, distance_function = euclidean_distance, k = [10], updates = 250):\n",
    "    correct_counters = dict([(x, {\"correct\": 0, \"false\": 0}) for x in k])\n",
    "    \n",
    "    #wrap the for loop in a tqdm to show progress\n",
    "    with tqdm.tqdm(total=len(X_train)) as pbar:\n",
    "        #parallelize the for loop\n",
    "        \n",
    "        \n",
    "        for index, row in X_train.iterrows():\n",
    "        \n",
    "            loocv_X_train = X_train.drop(index).values\n",
    "            loocv_y_train = y_train.drop(index).values\n",
    "            preds = predict_for_multiple_k(row.values, distance_function, loocv_X_train, loocv_y_train, k, LOOCV=True)\n",
    "            #print(\"done\")\n",
    "            correct = y_train.iloc[index]\n",
    "            \n",
    "            for k_val, pred in preds:\n",
    "                if correct == pred:\n",
    "                    correct_counters[k_val][\"correct\"] += 1\n",
    "                else:\n",
    "                    correct_counters[k_val][\"false\"] += 1\n",
    "            \n",
    "            #print(\"finished checking\")\n",
    "            if (index + 1) % updates == 0:\n",
    "                print(f'Processed {index + 1} rows')\n",
    "            pbar.update(1)\n",
    "\n",
    "            \n",
    "        \n",
    "    return correct_counters\n"
   ]
  },
  {
   "cell_type": "markdown",
   "metadata": {},
   "source": [
    "## Paralelize"
   ]
  },
  {
   "cell_type": "code",
   "execution_count": 34,
   "metadata": {},
   "outputs": [],
   "source": [
    "\n",
    "def process_row(index, row, X_train, y_train, distance_function, k_values):\n",
    "    \"\"\" loocv_X_train = X_train.drop(index).values\n",
    "    loocv_y_train = y_train.drop(index).values \"\"\"\n",
    "    preds = predict_for_multiple_k(row.values, distance_function, X_train, y_train, k_values, LOOCV=True)\n",
    "\n",
    "    correct = y_train.iloc[index]\n",
    "\n",
    "    local_correct_counters = dict([(x, {\"correct\": 0, \"false\": 0}) for x in k_values])\n",
    "\n",
    "    for k_val, pred in preds:\n",
    "        if correct == pred:\n",
    "            local_correct_counters[k_val][\"correct\"] += 1\n",
    "        else:\n",
    "            local_correct_counters[k_val][\"false\"] += 1\n",
    "\n",
    "    return local_correct_counters\n"
   ]
  },
  {
   "cell_type": "code",
   "execution_count": 35,
   "metadata": {},
   "outputs": [],
   "source": [
    "\n",
    "def LOOCV(X_train, y_train, distance_function = euclidean_distance, k = [10], updates = 250, n_jobs = -1):\n",
    "    correct_counters = dict([(x, {\"correct\": 0, \"false\": 0}) for x in k])\n",
    "\n",
    "    results = Parallel(n_jobs=n_jobs)(\n",
    "        delayed(process_row)(\n",
    "            index, row, X_train, y_train, distance_function, k\n",
    "        ) for index, row in tqdm.tqdm(X_train.iterrows(), total=len(X_train))\n",
    "    )\n",
    "\n",
    "    for local_correct_counters in results:\n",
    "        for k_val in k:\n",
    "            correct_counters[k_val][\"correct\"] += local_correct_counters[k_val][\"correct\"]\n",
    "            correct_counters[k_val][\"false\"] += local_correct_counters[k_val][\"false\"]\n",
    "\n",
    "    return correct_counters\n"
   ]
  },
  {
   "cell_type": "code",
   "execution_count": 14,
   "metadata": {},
   "outputs": [
    {
     "name": "stderr",
     "output_type": "stream",
     "text": [
      "100%|██████████| 60000/60000 [2:38:50<00:00,  6.30it/s]  \n"
     ]
    }
   ],
   "source": [
    "accuracies_LOOCV= LOOCV(X_resized_df, y_full, euclidean_distance, list(range(1,21)), 1000,12)"
   ]
  },
  {
   "cell_type": "code",
   "execution_count": 30,
   "metadata": {},
   "outputs": [],
   "source": [
    "#parquet accuracies_LOOCV\n",
    "with open('accuracies_LOOCV.pickle', 'wb') as handle:\n",
    "    pickle.dump(accuracies_LOOCV, handle, protocol=pickle.HIGHEST_PROTOCOL)\n",
    "    "
   ]
  },
  {
   "cell_type": "code",
   "execution_count": 22,
   "metadata": {},
   "outputs": [],
   "source": [
    "#read in the accuracies from the pickle file\n",
    " \n",
    "with open('accuracies_LOOCV.pickle', 'rb') as handle:\n",
    "    accuracies_LOOCV = pickle.load(handle)"
   ]
  },
  {
   "cell_type": "code",
   "execution_count": 23,
   "metadata": {},
   "outputs": [],
   "source": [
    "max_key= max(accuracies_LOOCV, key=lambda x: accuracies_LOOCV[x][\"correct\"]/(accuracies_LOOCV[x][\"correct\"]+accuracies_LOOCV[x][\"false\"]))"
   ]
  },
  {
   "cell_type": "code",
   "execution_count": 24,
   "metadata": {},
   "outputs": [],
   "source": [
    "X_test= pd.read_csv(\"MNIST_test.csv\")\n",
    "y_test= X_test[\"7\"]\n",
    "X_test= X_test.drop(\"7\",axis=1)\n"
   ]
  },
  {
   "cell_type": "code",
   "execution_count": 36,
   "metadata": {},
   "outputs": [
    {
     "name": "stderr",
     "output_type": "stream",
     "text": [
      "100%|██████████| 9999/9999 [09:53<00:00, 16.84it/s]\n"
     ]
    }
   ],
   "source": [
    "test_accuracy= LOOCV(X_test, y_test, euclidean_distance, [max_key], 1000, 12)"
   ]
  },
  {
   "cell_type": "code",
   "execution_count": 5,
   "metadata": {},
   "outputs": [],
   "source": [
    "def calc_emp_risk(accuracies):\n",
    "    # Get empirical risk for each k\n",
    "    empirical_risks = {}\n",
    "    for k, loss in accuracies.items():\n",
    "        # Get size of first item (should all be equal)\n",
    "        n = sum(loss.values())\n",
    "\n",
    "        # Calc risk\n",
    "        risk = (1/n)*loss['false']\n",
    "        empirical_risks[k] = risk\n",
    "        \n",
    "    # Get best empirical risk for k\n",
    "    min_val = min(empirical_risks.values())\n",
    "    optimal_k = [k for k in empirical_risks if empirical_risks[k] == min_val][0] # argmin for dict\n",
    "    \n",
    "    return empirical_risks, optimal_k"
   ]
  },
  {
   "cell_type": "code",
   "execution_count": 42,
   "metadata": {},
   "outputs": [],
   "source": [
    "with open('test_acc.pickle', 'wb') as handle:\n",
    "    pickle.dump(test_accuracy, handle, protocol=pickle.HIGHEST_PROTOCOL)"
   ]
  },
  {
   "cell_type": "code",
   "execution_count": 3,
   "metadata": {},
   "outputs": [],
   "source": [
    "with open('accuracies_LOOCV.pickle', 'rb') as handle:\n",
    "    locv_acc = pickle.load(handle)"
   ]
  },
  {
   "cell_type": "code",
   "execution_count": null,
   "metadata": {},
   "outputs": [],
   "source": [
    "with open('test_acc.pickle', 'rb') as handle:\n",
    "    test_acc = pickle.load(handle)"
   ]
  },
  {
   "cell_type": "code",
   "execution_count": 6,
   "metadata": {},
   "outputs": [],
   "source": [
    "locv_risk,k= calc_emp_risk(locv_acc)"
   ]
  },
  {
   "cell_type": "code",
   "execution_count": null,
   "metadata": {},
   "outputs": [],
   "source": [
    "test_acc,_= calc_emp_risk(test_acc)"
   ]
  },
  {
   "cell_type": "code",
   "execution_count": 30,
   "metadata": {},
   "outputs": [
    {
     "data": {
      "text/plain": [
       "Text(0.5, 1.0, 'LOOCV risk for k')"
      ]
     },
     "execution_count": 30,
     "metadata": {},
     "output_type": "execute_result"
    },
    {
     "data": {
      "image/png": "[encoded data removed]",
      "text/plain": [
       "<Figure size 640x480 with 1 Axes>"
      ]
     },
     "metadata": {},
     "output_type": "display_data"
    }
   ],
   "source": [
    "x_risk= list(locv_risk.keys())\n",
    "y_risk= list(locv_risk.values())\n",
    "plt.xticks(x_risk)\n",
    "\n",
    "plt.plot(x_risk, y_risk, color='blue', label=\"Risk using LOOCV\")\n",
    "#set a point at x=2 y=0.267\n",
    "plt.scatter(k,test_acc, color='red', label=\"Risk on test set\")\n",
    "plt.legend()\n",
    "plt.xlabel('k')\n",
    "plt.ylabel('RISK')\n",
    "plt.title('LOOCV risk for k')"
   ]
  }
 ],
 "metadata": {
  "kernelspec": {
   "display_name": "Python 3",
   "language": "python",
   "name": "python3"
  },
  "language_info": {
   "codemirror_mode": {
    "name": "ipython",
    "version": 3
   },
   "file_extension": ".py",
   "mimetype": "text/x-python",
   "name": "python",
   "nbconvert_exporter": "python",
   "pygments_lexer": "ipython3",
   "version": "3.10.9"
  },
  "orig_nbformat": 4
 },
 "nbformat": 4,
 "nbformat_minor": 2
}
